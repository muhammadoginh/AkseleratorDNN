{
 "cells": [
  {
   "cell_type": "code",
   "execution_count": 1,
   "id": "6de929f1",
   "metadata": {},
   "outputs": [
    {
     "name": "stdout",
     "output_type": "stream",
     "text": [
      "Requirement already satisfied: tensorflow in /home/faoziaziz/miniconda3/envs/ocr_q1/lib/python3.10/site-packages (2.9.1)\n",
      "Requirement already satisfied: numpy>=1.20 in /home/faoziaziz/miniconda3/envs/ocr_q1/lib/python3.10/site-packages (from tensorflow) (1.22.4)\n",
      "Requirement already satisfied: google-pasta>=0.1.1 in /home/faoziaziz/miniconda3/envs/ocr_q1/lib/python3.10/site-packages (from tensorflow) (0.2.0)\n",
      "Requirement already satisfied: termcolor>=1.1.0 in /home/faoziaziz/miniconda3/envs/ocr_q1/lib/python3.10/site-packages (from tensorflow) (1.1.0)\n",
      "Requirement already satisfied: flatbuffers<2,>=1.12 in /home/faoziaziz/miniconda3/envs/ocr_q1/lib/python3.10/site-packages (from tensorflow) (1.12)\n",
      "Requirement already satisfied: tensorboard<2.10,>=2.9 in /home/faoziaziz/miniconda3/envs/ocr_q1/lib/python3.10/site-packages (from tensorflow) (2.9.1)\n",
      "Requirement already satisfied: keras-preprocessing>=1.1.1 in /home/faoziaziz/miniconda3/envs/ocr_q1/lib/python3.10/site-packages (from tensorflow) (1.1.2)\n",
      "Requirement already satisfied: grpcio<2.0,>=1.24.3 in /home/faoziaziz/miniconda3/envs/ocr_q1/lib/python3.10/site-packages (from tensorflow) (1.46.3)\n",
      "Requirement already satisfied: protobuf<3.20,>=3.9.2 in /home/faoziaziz/miniconda3/envs/ocr_q1/lib/python3.10/site-packages (from tensorflow) (3.19.4)\n",
      "Requirement already satisfied: wrapt>=1.11.0 in /home/faoziaziz/miniconda3/envs/ocr_q1/lib/python3.10/site-packages (from tensorflow) (1.14.1)\n",
      "Requirement already satisfied: opt-einsum>=2.3.2 in /home/faoziaziz/miniconda3/envs/ocr_q1/lib/python3.10/site-packages (from tensorflow) (3.3.0)\n",
      "Requirement already satisfied: absl-py>=1.0.0 in /home/faoziaziz/miniconda3/envs/ocr_q1/lib/python3.10/site-packages (from tensorflow) (1.1.0)\n",
      "Requirement already satisfied: packaging in /home/faoziaziz/miniconda3/envs/ocr_q1/lib/python3.10/site-packages (from tensorflow) (21.3)\n",
      "Requirement already satisfied: keras<2.10.0,>=2.9.0rc0 in /home/faoziaziz/miniconda3/envs/ocr_q1/lib/python3.10/site-packages (from tensorflow) (2.9.0)\n",
      "Requirement already satisfied: tensorflow-estimator<2.10.0,>=2.9.0rc0 in /home/faoziaziz/miniconda3/envs/ocr_q1/lib/python3.10/site-packages (from tensorflow) (2.9.0)\n",
      "Requirement already satisfied: h5py>=2.9.0 in /home/faoziaziz/miniconda3/envs/ocr_q1/lib/python3.10/site-packages (from tensorflow) (3.7.0)\n",
      "Requirement already satisfied: setuptools in /home/faoziaziz/miniconda3/envs/ocr_q1/lib/python3.10/site-packages (from tensorflow) (61.2.0)\n",
      "Requirement already satisfied: tensorflow-io-gcs-filesystem>=0.23.1 in /home/faoziaziz/miniconda3/envs/ocr_q1/lib/python3.10/site-packages (from tensorflow) (0.26.0)\n",
      "Requirement already satisfied: gast<=0.4.0,>=0.2.1 in /home/faoziaziz/miniconda3/envs/ocr_q1/lib/python3.10/site-packages (from tensorflow) (0.4.0)\n",
      "Requirement already satisfied: typing-extensions>=3.6.6 in /home/faoziaziz/miniconda3/envs/ocr_q1/lib/python3.10/site-packages (from tensorflow) (4.1.1)\n",
      "Requirement already satisfied: astunparse>=1.6.0 in /home/faoziaziz/miniconda3/envs/ocr_q1/lib/python3.10/site-packages (from tensorflow) (1.6.3)\n",
      "Requirement already satisfied: libclang>=13.0.0 in /home/faoziaziz/miniconda3/envs/ocr_q1/lib/python3.10/site-packages (from tensorflow) (14.0.1)\n",
      "Requirement already satisfied: six>=1.12.0 in /home/faoziaziz/miniconda3/envs/ocr_q1/lib/python3.10/site-packages (from tensorflow) (1.16.0)\n",
      "Requirement already satisfied: wheel<1.0,>=0.23.0 in /home/faoziaziz/miniconda3/envs/ocr_q1/lib/python3.10/site-packages (from astunparse>=1.6.0->tensorflow) (0.37.1)\n",
      "Requirement already satisfied: requests<3,>=2.21.0 in /home/faoziaziz/miniconda3/envs/ocr_q1/lib/python3.10/site-packages (from tensorboard<2.10,>=2.9->tensorflow) (2.28.0)\n",
      "Requirement already satisfied: google-auth-oauthlib<0.5,>=0.4.1 in /home/faoziaziz/miniconda3/envs/ocr_q1/lib/python3.10/site-packages (from tensorboard<2.10,>=2.9->tensorflow) (0.4.6)\n",
      "Requirement already satisfied: werkzeug>=1.0.1 in /home/faoziaziz/miniconda3/envs/ocr_q1/lib/python3.10/site-packages (from tensorboard<2.10,>=2.9->tensorflow) (2.1.2)\n",
      "Requirement already satisfied: tensorboard-data-server<0.7.0,>=0.6.0 in /home/faoziaziz/miniconda3/envs/ocr_q1/lib/python3.10/site-packages (from tensorboard<2.10,>=2.9->tensorflow) (0.6.1)\n",
      "Requirement already satisfied: markdown>=2.6.8 in /home/faoziaziz/miniconda3/envs/ocr_q1/lib/python3.10/site-packages (from tensorboard<2.10,>=2.9->tensorflow) (3.3.7)\n",
      "Requirement already satisfied: google-auth<3,>=1.6.3 in /home/faoziaziz/miniconda3/envs/ocr_q1/lib/python3.10/site-packages (from tensorboard<2.10,>=2.9->tensorflow) (2.7.0)\n",
      "Requirement already satisfied: tensorboard-plugin-wit>=1.6.0 in /home/faoziaziz/miniconda3/envs/ocr_q1/lib/python3.10/site-packages (from tensorboard<2.10,>=2.9->tensorflow) (1.8.1)\n",
      "Requirement already satisfied: cachetools<6.0,>=2.0.0 in /home/faoziaziz/miniconda3/envs/ocr_q1/lib/python3.10/site-packages (from google-auth<3,>=1.6.3->tensorboard<2.10,>=2.9->tensorflow) (5.2.0)\n",
      "Requirement already satisfied: pyasn1-modules>=0.2.1 in /home/faoziaziz/miniconda3/envs/ocr_q1/lib/python3.10/site-packages (from google-auth<3,>=1.6.3->tensorboard<2.10,>=2.9->tensorflow) (0.2.8)\n",
      "Requirement already satisfied: rsa<5,>=3.1.4 in /home/faoziaziz/miniconda3/envs/ocr_q1/lib/python3.10/site-packages (from google-auth<3,>=1.6.3->tensorboard<2.10,>=2.9->tensorflow) (4.8)\n",
      "Requirement already satisfied: requests-oauthlib>=0.7.0 in /home/faoziaziz/miniconda3/envs/ocr_q1/lib/python3.10/site-packages (from google-auth-oauthlib<0.5,>=0.4.1->tensorboard<2.10,>=2.9->tensorflow) (1.3.1)\n",
      "Requirement already satisfied: pyasn1<0.5.0,>=0.4.6 in /home/faoziaziz/miniconda3/envs/ocr_q1/lib/python3.10/site-packages (from pyasn1-modules>=0.2.1->google-auth<3,>=1.6.3->tensorboard<2.10,>=2.9->tensorflow) (0.4.8)\n",
      "Requirement already satisfied: urllib3<1.27,>=1.21.1 in /home/faoziaziz/miniconda3/envs/ocr_q1/lib/python3.10/site-packages (from requests<3,>=2.21.0->tensorboard<2.10,>=2.9->tensorflow) (1.26.9)\n",
      "Requirement already satisfied: idna<4,>=2.5 in /home/faoziaziz/miniconda3/envs/ocr_q1/lib/python3.10/site-packages (from requests<3,>=2.21.0->tensorboard<2.10,>=2.9->tensorflow) (3.3)\n",
      "Requirement already satisfied: certifi>=2017.4.17 in /home/faoziaziz/miniconda3/envs/ocr_q1/lib/python3.10/site-packages (from requests<3,>=2.21.0->tensorboard<2.10,>=2.9->tensorflow) (2022.5.18.1)\n",
      "Requirement already satisfied: charset-normalizer~=2.0.0 in /home/faoziaziz/miniconda3/envs/ocr_q1/lib/python3.10/site-packages (from requests<3,>=2.21.0->tensorboard<2.10,>=2.9->tensorflow) (2.0.12)\n",
      "Requirement already satisfied: oauthlib>=3.0.0 in /home/faoziaziz/miniconda3/envs/ocr_q1/lib/python3.10/site-packages (from requests-oauthlib>=0.7.0->google-auth-oauthlib<0.5,>=0.4.1->tensorboard<2.10,>=2.9->tensorflow) (3.2.0)\n",
      "Requirement already satisfied: pyparsing!=3.0.5,>=2.0.2 in /home/faoziaziz/miniconda3/envs/ocr_q1/lib/python3.10/site-packages (from packaging->tensorflow) (3.0.4)\n",
      "Note: you may need to restart the kernel to use updated packages.\n"
     ]
    }
   ],
   "source": [
    "%pip install tensorflow"
   ]
  },
  {
   "cell_type": "code",
   "execution_count": 2,
   "id": "eb7843ad",
   "metadata": {},
   "outputs": [
    {
     "name": "stderr",
     "output_type": "stream",
     "text": [
      "2022-06-12 18:04:20.455132: W tensorflow/stream_executor/platform/default/dso_loader.cc:64] Could not load dynamic library 'libcudart.so.11.0'; dlerror: libcudart.so.11.0: cannot open shared object file: No such file or directory\n",
      "2022-06-12 18:04:20.455158: I tensorflow/stream_executor/cuda/cudart_stub.cc:29] Ignore above cudart dlerror if you do not have a GPU set up on your machine.\n"
     ]
    }
   ],
   "source": [
    "# import the necessary packages\n",
    "from tensorflow.keras.datasets import mnist\n",
    "import numpy as np\n"
   ]
  },
  {
   "cell_type": "code",
   "execution_count": 3,
   "id": "ae1be371",
   "metadata": {},
   "outputs": [],
   "source": [
    "def load_az_dataset(datasetPath):\n",
    "    # initialize the list of data and labels\n",
    "    data = []\n",
    "    labels = []\n",
    "    # loop over the rows of the A-Z handwritten digit dataset\n",
    "    for row in open(datasetPath):\n",
    "        # parse the label and image from the row\n",
    "        row = row.split(\",\")\n",
    "        label = int(row[0])\n",
    "        image = np.array([int(x) for x in row[1:]], dtype=\"uint8\")\n",
    "        # images are represented as single channel (grayscale) images\n",
    "        # that are 28x28=784 pixels -- we need to take this flattened\n",
    "        # 784-d list of numbers and repshape them into a 28x28 matrix\n",
    "        image = image.reshape((28, 28))\n",
    "        # update the list of data and labels\n",
    "        data.append(image)\n",
    "        labels.append(label)\n",
    "     # convert the data and labels to NumPy arrays\n",
    "    data = np.array(data, dtype=\"float32\")\n",
    "    labels = np.array(labels, dtype=\"int\")\n",
    "    # return a 2-tuple of the A-Z data and labels\n",
    "    return (data, labels)\n",
    "\n"
   ]
  },
  {
   "cell_type": "code",
   "execution_count": 4,
   "id": "0a3bd111",
   "metadata": {},
   "outputs": [],
   "source": [
    "def load_mnist_dataset():\n",
    "    # load the MNIST dataset and stack the training data and testing\n",
    "    # data together (we'll create our own training and testing splits\n",
    "    # later in the project)\n",
    "    ((trainData, trainLabels), (testData, testLabels)) = mnist.load_data()\n",
    "    data = np.vstack([trainData, testData])\n",
    "    labels = np.hstack([trainLabels, testLabels])\n",
    "    # return a 2-tuple of the MNIST data and labels\n",
    "    return (data, labels)"
   ]
  },
  {
   "cell_type": "markdown",
   "id": "1367217f",
   "metadata": {},
   "source": [
    "# Bagian training OCR Model dengan Keras"
   ]
  },
  {
   "cell_type": "code",
   "execution_count": 8,
   "id": "51f0135e",
   "metadata": {},
   "outputs": [
    {
     "name": "stdout",
     "output_type": "stream",
     "text": [
      "Requirement already satisfied: matplotlib in /home/faoziaziz/miniconda3/envs/ocr_q1/lib/python3.10/site-packages (3.5.2)\n",
      "Requirement already satisfied: python-imagesearch in /home/faoziaziz/miniconda3/envs/ocr_q1/lib/python3.10/site-packages (1.2.2)\n",
      "Requirement already satisfied: opencv-python in /home/faoziaziz/miniconda3/envs/ocr_q1/lib/python3.10/site-packages (4.6.0.66)\n",
      "Requirement already satisfied: pillow>=6.2.0 in /home/faoziaziz/miniconda3/envs/ocr_q1/lib/python3.10/site-packages (from matplotlib) (9.1.1)\n",
      "Requirement already satisfied: pyparsing>=2.2.1 in /home/faoziaziz/miniconda3/envs/ocr_q1/lib/python3.10/site-packages (from matplotlib) (3.0.4)\n",
      "Requirement already satisfied: kiwisolver>=1.0.1 in /home/faoziaziz/miniconda3/envs/ocr_q1/lib/python3.10/site-packages (from matplotlib) (1.4.2)\n",
      "Requirement already satisfied: numpy>=1.17 in /home/faoziaziz/miniconda3/envs/ocr_q1/lib/python3.10/site-packages (from matplotlib) (1.22.4)\n",
      "Requirement already satisfied: python-dateutil>=2.7 in /home/faoziaziz/miniconda3/envs/ocr_q1/lib/python3.10/site-packages (from matplotlib) (2.8.2)\n",
      "Requirement already satisfied: packaging>=20.0 in /home/faoziaziz/miniconda3/envs/ocr_q1/lib/python3.10/site-packages (from matplotlib) (21.3)\n",
      "Requirement already satisfied: cycler>=0.10 in /home/faoziaziz/miniconda3/envs/ocr_q1/lib/python3.10/site-packages (from matplotlib) (0.11.0)\n",
      "Requirement already satisfied: fonttools>=4.22.0 in /home/faoziaziz/miniconda3/envs/ocr_q1/lib/python3.10/site-packages (from matplotlib) (4.33.3)\n",
      "Requirement already satisfied: python3-xlib in /home/faoziaziz/miniconda3/envs/ocr_q1/lib/python3.10/site-packages (from python-imagesearch) (0.15)\n",
      "Requirement already satisfied: mss in /home/faoziaziz/miniconda3/envs/ocr_q1/lib/python3.10/site-packages (from python-imagesearch) (6.1.0)\n",
      "Requirement already satisfied: pyautogui in /home/faoziaziz/miniconda3/envs/ocr_q1/lib/python3.10/site-packages (from python-imagesearch) (0.9.53)\n",
      "Requirement already satisfied: six>=1.5 in /home/faoziaziz/miniconda3/envs/ocr_q1/lib/python3.10/site-packages (from python-dateutil>=2.7->matplotlib) (1.16.0)\n",
      "Requirement already satisfied: pymsgbox in /home/faoziaziz/miniconda3/envs/ocr_q1/lib/python3.10/site-packages (from pyautogui->python-imagesearch) (1.0.9)\n",
      "Requirement already satisfied: pyscreeze>=0.1.21 in /home/faoziaziz/miniconda3/envs/ocr_q1/lib/python3.10/site-packages (from pyautogui->python-imagesearch) (0.1.28)\n",
      "Requirement already satisfied: PyTweening>=1.0.1 in /home/faoziaziz/miniconda3/envs/ocr_q1/lib/python3.10/site-packages (from pyautogui->python-imagesearch) (1.0.4)\n",
      "Requirement already satisfied: mouseinfo in /home/faoziaziz/miniconda3/envs/ocr_q1/lib/python3.10/site-packages (from pyautogui->python-imagesearch) (0.1.3)\n",
      "Requirement already satisfied: pygetwindow>=0.0.5 in /home/faoziaziz/miniconda3/envs/ocr_q1/lib/python3.10/site-packages (from pyautogui->python-imagesearch) (0.0.9)\n",
      "Requirement already satisfied: pyrect in /home/faoziaziz/miniconda3/envs/ocr_q1/lib/python3.10/site-packages (from pygetwindow>=0.0.5->pyautogui->python-imagesearch) (0.2.0)\n",
      "Requirement already satisfied: pyperclip in /home/faoziaziz/miniconda3/envs/ocr_q1/lib/python3.10/site-packages (from mouseinfo->pyautogui->python-imagesearch) (1.8.2)\n",
      "Note: you may need to restart the kernel to use updated packages.\n"
     ]
    }
   ],
   "source": [
    "%pip install matplotlib python-imagesearch opencv-python"
   ]
  },
  {
   "cell_type": "code",
   "execution_count": 11,
   "id": "d221e64c",
   "metadata": {},
   "outputs": [
    {
     "name": "stdout",
     "output_type": "stream",
     "text": [
      "Collecting opencv-contrib-python\n",
      "  Downloading opencv_contrib_python-4.6.0.66-cp36-abi3-manylinux_2_17_x86_64.manylinux2014_x86_64.whl (67.1 MB)\n",
      "\u001b[K     |████████████████████████████████| 67.1 MB 2.5 MB/s eta 0:00:01\n",
      "\u001b[?25hRequirement already satisfied: numpy>=1.17.3 in /home/faoziaziz/miniconda3/envs/ocr_q1/lib/python3.10/site-packages (from opencv-contrib-python) (1.22.4)\n",
      "Installing collected packages: opencv-contrib-python\n",
      "Successfully installed opencv-contrib-python-4.6.0.66\n",
      "Note: you may need to restart the kernel to use updated packages.\n"
     ]
    }
   ],
   "source": [
    "%pip install opencv-contrib-python"
   ]
  },
  {
   "cell_type": "code",
   "execution_count": 12,
   "id": "7e81c769",
   "metadata": {},
   "outputs": [
    {
     "ename": "ModuleNotFoundError",
     "evalue": "No module named 'pyimagesearch'",
     "output_type": "error",
     "traceback": [
      "\u001b[0;31m---------------------------------------------------------------------------\u001b[0m",
      "\u001b[0;31mModuleNotFoundError\u001b[0m                       Traceback (most recent call last)",
      "Input \u001b[0;32mIn [12]\u001b[0m, in \u001b[0;36m<cell line: 5>\u001b[0;34m()\u001b[0m\n\u001b[1;32m      3\u001b[0m matplotlib\u001b[38;5;241m.\u001b[39muse(\u001b[38;5;124m\"\u001b[39m\u001b[38;5;124mAgg\u001b[39m\u001b[38;5;124m\"\u001b[39m)\n\u001b[1;32m      4\u001b[0m \u001b[38;5;66;03m# import the necessary packages\u001b[39;00m\n\u001b[0;32m----> 5\u001b[0m \u001b[38;5;28;01mfrom\u001b[39;00m \u001b[38;5;21;01mpyimagesearch\u001b[39;00m\u001b[38;5;21;01m.\u001b[39;00m\u001b[38;5;21;01mmodels\u001b[39;00m \u001b[38;5;28;01mimport\u001b[39;00m ResNet\n\u001b[1;32m      6\u001b[0m \u001b[38;5;28;01mfrom\u001b[39;00m \u001b[38;5;21;01mpyimagesearch\u001b[39;00m\u001b[38;5;21;01m.\u001b[39;00m\u001b[38;5;21;01maz_dataset\u001b[39;00m \u001b[38;5;28;01mimport\u001b[39;00m load_mnist_dataset\n\u001b[1;32m      7\u001b[0m \u001b[38;5;28;01mfrom\u001b[39;00m \u001b[38;5;21;01mpyimagesearch\u001b[39;00m\u001b[38;5;21;01m.\u001b[39;00m\u001b[38;5;21;01maz_dataset\u001b[39;00m \u001b[38;5;28;01mimport\u001b[39;00m load_az_dataset\n",
      "\u001b[0;31mModuleNotFoundError\u001b[0m: No module named 'pyimagesearch'"
     ]
    }
   ],
   "source": [
    "# set the matplotlib backend so figures can be saved in the background\n",
    "import matplotlib\n",
    "matplotlib.use(\"Agg\")\n",
    "# import the necessary packages\n",
    "from pyimagesearch.models import ResNet\n",
    "from pyimagesearch.az_dataset import load_mnist_dataset\n",
    "from pyimagesearch.az_dataset import load_az_dataset\n",
    "from tensorflow.keras.preprocessing.image import ImageDataGenerator\n",
    "from tensorflow.keras.optimizers import SGD\n",
    "from sklearn.preprocessing import LabelBinarizer\n",
    "from sklearn.model_selection import train_test_split\n",
    "from sklearn.metrics import classification_report\n",
    "from imutils import build_montages\n",
    "import matplotlib.pyplot as plt\n",
    "import numpy as np\n",
    "import argparse\n",
    "import cv2"
   ]
  },
  {
   "cell_type": "code",
   "execution_count": null,
   "id": "65795645",
   "metadata": {},
   "outputs": [],
   "source": []
  }
 ],
 "metadata": {
  "kernelspec": {
   "display_name": "Python 3 (ipykernel)",
   "language": "python",
   "name": "python3"
  },
  "language_info": {
   "codemirror_mode": {
    "name": "ipython",
    "version": 3
   },
   "file_extension": ".py",
   "mimetype": "text/x-python",
   "name": "python",
   "nbconvert_exporter": "python",
   "pygments_lexer": "ipython3",
   "version": "3.10.4"
  }
 },
 "nbformat": 4,
 "nbformat_minor": 5
}
